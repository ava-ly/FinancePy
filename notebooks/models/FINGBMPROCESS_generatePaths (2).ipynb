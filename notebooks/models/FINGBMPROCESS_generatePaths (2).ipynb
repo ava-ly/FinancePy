{
  "nbformat": 4,
  "nbformat_minor": 0,
  "metadata": {
    "colab": {
      "provenance": []
    },
    "kernelspec": {
      "name": "python3",
      "display_name": "Python 3"
    },
    "language_info": {
      "name": "python"
    }
  },
  "cells": [
    {
      "cell_type": "markdown",
      "source": [
        "# MODEL GENERATION OF GBM RANDOM PATHS\n",
        "In this notebook I show how you can generate random paths according to a GBM"
      ],
      "metadata": {
        "id": "ZfG37OKQdnda"
      }
    },
    {
      "cell_type": "code",
      "execution_count": null,
      "metadata": {
        "id": "gsfqtPCS_LEC"
      },
      "outputs": [],
      "source": [
        "import numpy as np\n",
        "import matplotlib.pyplot as plt"
      ]
    },
    {
      "cell_type": "code",
      "source": [
        "pip install financepy"
      ],
      "metadata": {
        "colab": {
          "base_uri": "https://localhost:8080/"
        },
        "id": "urTtO08m_Ncm",
        "outputId": "cf70ed1a-0191-4531-fd67-99f19c8d0603"
      },
      "execution_count": null,
      "outputs": [
        {
          "output_type": "stream",
          "name": "stdout",
          "text": [
            "Collecting financepy\n",
            "  Downloading financepy-0.310-py3-none-any.whl (628 kB)\n",
            "\u001b[?25l     \u001b[90m━━━━━━━━━━━━━━━━━━━━━━━━━━━━━━━━━━━━━━━━\u001b[0m \u001b[32m0.0/628.6 kB\u001b[0m \u001b[31m?\u001b[0m eta \u001b[36m-:--:--\u001b[0m\r\u001b[2K     \u001b[91m━━━━━━━━━\u001b[0m\u001b[90m╺\u001b[0m\u001b[90m━━━━━━━━━━━━━━━━━━━━━━━━━━━━━━\u001b[0m \u001b[32m143.4/628.6 kB\u001b[0m \u001b[31m4.4 MB/s\u001b[0m eta \u001b[36m0:00:01\u001b[0m\r\u001b[2K     \u001b[90m━━━━━━━━━━━━━━━━━━━━━━━━━━━━━━━━━━━━━━━━\u001b[0m \u001b[32m628.6/628.6 kB\u001b[0m \u001b[31m9.8 MB/s\u001b[0m eta \u001b[36m0:00:00\u001b[0m\n",
            "\u001b[?25hRequirement already satisfied: numpy in /usr/local/lib/python3.10/dist-packages (from financepy) (1.23.5)\n",
            "Requirement already satisfied: numba in /usr/local/lib/python3.10/dist-packages (from financepy) (0.58.1)\n",
            "Requirement already satisfied: scipy in /usr/local/lib/python3.10/dist-packages (from financepy) (1.11.3)\n",
            "Requirement already satisfied: llvmlite in /usr/local/lib/python3.10/dist-packages (from financepy) (0.41.1)\n",
            "Requirement already satisfied: ipython in /usr/local/lib/python3.10/dist-packages (from financepy) (7.34.0)\n",
            "Requirement already satisfied: matplotlib in /usr/local/lib/python3.10/dist-packages (from financepy) (3.7.1)\n",
            "Requirement already satisfied: pandas in /usr/local/lib/python3.10/dist-packages (from financepy) (1.5.3)\n",
            "Requirement already satisfied: prettytable in /usr/local/lib/python3.10/dist-packages (from financepy) (3.9.0)\n",
            "Requirement already satisfied: setuptools>=18.5 in /usr/local/lib/python3.10/dist-packages (from ipython->financepy) (67.7.2)\n",
            "Collecting jedi>=0.16 (from ipython->financepy)\n",
            "  Downloading jedi-0.19.1-py2.py3-none-any.whl (1.6 MB)\n",
            "\u001b[2K     \u001b[90m━━━━━━━━━━━━━━━━━━━━━━━━━━━━━━━━━━━━━━━━\u001b[0m \u001b[32m1.6/1.6 MB\u001b[0m \u001b[31m61.2 MB/s\u001b[0m eta \u001b[36m0:00:00\u001b[0m\n",
            "\u001b[?25hRequirement already satisfied: decorator in /usr/local/lib/python3.10/dist-packages (from ipython->financepy) (4.4.2)\n",
            "Requirement already satisfied: pickleshare in /usr/local/lib/python3.10/dist-packages (from ipython->financepy) (0.7.5)\n",
            "Requirement already satisfied: traitlets>=4.2 in /usr/local/lib/python3.10/dist-packages (from ipython->financepy) (5.7.1)\n",
            "Requirement already satisfied: prompt-toolkit!=3.0.0,!=3.0.1,<3.1.0,>=2.0.0 in /usr/local/lib/python3.10/dist-packages (from ipython->financepy) (3.0.41)\n",
            "Requirement already satisfied: pygments in /usr/local/lib/python3.10/dist-packages (from ipython->financepy) (2.16.1)\n",
            "Requirement already satisfied: backcall in /usr/local/lib/python3.10/dist-packages (from ipython->financepy) (0.2.0)\n",
            "Requirement already satisfied: matplotlib-inline in /usr/local/lib/python3.10/dist-packages (from ipython->financepy) (0.1.6)\n",
            "Requirement already satisfied: pexpect>4.3 in /usr/local/lib/python3.10/dist-packages (from ipython->financepy) (4.8.0)\n",
            "Requirement already satisfied: contourpy>=1.0.1 in /usr/local/lib/python3.10/dist-packages (from matplotlib->financepy) (1.2.0)\n",
            "Requirement already satisfied: cycler>=0.10 in /usr/local/lib/python3.10/dist-packages (from matplotlib->financepy) (0.12.1)\n",
            "Requirement already satisfied: fonttools>=4.22.0 in /usr/local/lib/python3.10/dist-packages (from matplotlib->financepy) (4.44.3)\n",
            "Requirement already satisfied: kiwisolver>=1.0.1 in /usr/local/lib/python3.10/dist-packages (from matplotlib->financepy) (1.4.5)\n",
            "Requirement already satisfied: packaging>=20.0 in /usr/local/lib/python3.10/dist-packages (from matplotlib->financepy) (23.2)\n",
            "Requirement already satisfied: pillow>=6.2.0 in /usr/local/lib/python3.10/dist-packages (from matplotlib->financepy) (9.4.0)\n",
            "Requirement already satisfied: pyparsing>=2.3.1 in /usr/local/lib/python3.10/dist-packages (from matplotlib->financepy) (3.1.1)\n",
            "Requirement already satisfied: python-dateutil>=2.7 in /usr/local/lib/python3.10/dist-packages (from matplotlib->financepy) (2.8.2)\n",
            "Requirement already satisfied: pytz>=2020.1 in /usr/local/lib/python3.10/dist-packages (from pandas->financepy) (2023.3.post1)\n",
            "Requirement already satisfied: wcwidth in /usr/local/lib/python3.10/dist-packages (from prettytable->financepy) (0.2.10)\n",
            "Requirement already satisfied: parso<0.9.0,>=0.8.3 in /usr/local/lib/python3.10/dist-packages (from jedi>=0.16->ipython->financepy) (0.8.3)\n",
            "Requirement already satisfied: ptyprocess>=0.5 in /usr/local/lib/python3.10/dist-packages (from pexpect>4.3->ipython->financepy) (0.7.0)\n",
            "Requirement already satisfied: six>=1.5 in /usr/local/lib/python3.10/dist-packages (from python-dateutil>=2.7->matplotlib->financepy) (1.16.0)\n",
            "Installing collected packages: jedi, financepy\n",
            "Successfully installed financepy-0.310 jedi-0.19.1\n"
          ]
        }
      ]
    },
    {
      "cell_type": "code",
      "source": [
        "from financepy.models.gbm_process_simulator import *"
      ],
      "metadata": {
        "colab": {
          "base_uri": "https://localhost:8080/"
        },
        "id": "TJc1qkQW_dm-",
        "outputId": "8ea2f690-c24e-40ff-ed83-b8ef135f53ee"
      },
      "execution_count": null,
      "outputs": [
        {
          "output_type": "stream",
          "name": "stdout",
          "text": [
            "####################################################################\n",
            "# FINANCEPY BETA Version 0.310 - This build:  25 Aug 2023 at 16:17 #\n",
            "#     This software is distributed FREE AND WITHOUT ANY WARRANTY   #\n",
            "#  Report bugs as issues at https://github.com/domokane/FinancePy  #\n",
            "####################################################################\n",
            "\n"
          ]
        }
      ]
    },
    {
      "cell_type": "code",
      "source": [
        "process = FinGBMProcess()"
      ],
      "metadata": {
        "id": "ZUOMNLhK_iqB"
      },
      "execution_count": null,
      "outputs": []
    },
    {
      "cell_type": "markdown",
      "source": [
        "# Single Asset\n",
        "We can generate time series for a single asset over time."
      ],
      "metadata": {
        "id": "5DDyJkQp_mkr"
      }
    },
    {
      "cell_type": "code",
      "source": [
        "num_paths = 10000\n",
        "num_time_steps = 2\n",
        "t = 1.0\n",
        "mu = 0.03\n",
        "S=100.0\n",
        "vol = 0.2\n",
        "seed = 1912\n"
      ],
      "metadata": {
        "id": "BEAchrII_qj_"
      },
      "execution_count": null,
      "outputs": []
    },
    {
      "cell_type": "code",
      "source": [
        "x = get_paths(num_paths,num_time_steps,t,mu,S,vol,seed)"
      ],
      "metadata": {
        "id": "S2ap4QVK_wol"
      },
      "execution_count": null,
      "outputs": []
    },
    {
      "cell_type": "markdown",
      "source": [
        "This can be plotted"
      ],
      "metadata": {
        "id": "Bt_CP_APeDDg"
      }
    },
    {
      "cell_type": "code",
      "source": [
        "x.shape"
      ],
      "metadata": {
        "colab": {
          "base_uri": "https://localhost:8080/"
        },
        "id": "loEtojyt_0k7",
        "outputId": "51bec9a5-76fa-49d5-f9bf-611543f17257"
      },
      "execution_count": null,
      "outputs": [
        {
          "output_type": "execute_result",
          "data": {
            "text/plain": [
              "(20000, 3)"
            ]
          },
          "metadata": {},
          "execution_count": 8
        }
      ]
    },
    {
      "cell_type": "markdown",
      "source": [
        "The distribution at time zero is peaked at 100.0"
      ],
      "metadata": {
        "id": "lx-W9yGfeI9c"
      }
    },
    {
      "cell_type": "code",
      "source": [
        "plt.hist(x[:,0], 100);"
      ],
      "metadata": {
        "colab": {
          "base_uri": "https://localhost:8080/",
          "height": 430
        },
        "id": "0tvFRim6_2DS",
        "outputId": "ded0d4a2-7fe9-4ba6-dc92-bd4d96e575ef"
      },
      "execution_count": null,
      "outputs": [
        {
          "output_type": "display_data",
          "data": {
            "text/plain": [
              "<Figure size 640x480 with 1 Axes>"
            ],
            "image/png": "[encoded data removed]"
          },
          "metadata": {}
        }
      ]
    },
    {
      "cell_type": "markdown",
      "source": [
        "After a year there is a full lognormal distribution"
      ],
      "metadata": {
        "id": "Nyt1vVUJ_9rf"
      }
    },
    {
      "cell_type": "code",
      "source": [
        "plt.hist(x[:,1], 100);"
      ],
      "metadata": {
        "colab": {
          "base_uri": "https://localhost:8080/",
          "height": 430
        },
        "id": "n1Le4DW-_95E",
        "outputId": "a472ef45-9b50-4889-bbc4-2298a028b5fa"
      },
      "execution_count": null,
      "outputs": [
        {
          "output_type": "display_data",
          "data": {
            "text/plain": [
              "<Figure size 640x480 with 1 Axes>"
            ],
            "image/png": "[encoded data removed]"
          },
          "metadata": {}
        }
      ]
    },
    {
      "cell_type": "markdown",
      "source": [
        "# Multiple Assets One Time"
      ],
      "metadata": {
        "id": "XULMMo9lAM_-"
      }
    },
    {
      "cell_type": "code",
      "source": [
        "num_assets = 2\n",
        "num_paths = 10000\n",
        "num_time_steps = 2\n",
        "t = 1.0\n",
        "mus = 0.03 * np.ones(num_assets)\n",
        "stock_prices = 100.0 * np.ones(num_assets)\n",
        "volatilities = 0.2 * np.ones(num_assets)\n",
        "rho = 0.9999\n",
        "corr_matrix = np.array([[1.0, rho],[rho, 1.0]])\n",
        "seed = 1912\n",
        "\n",
        "x = get_assets(num_assets, num_paths, t,\n",
        "                   mus, stock_prices, volatilities,\n",
        "                   corr_matrix, seed)"
      ],
      "metadata": {
        "id": "x-p2F4EUAPMJ"
      },
      "execution_count": null,
      "outputs": []
    },
    {
      "cell_type": "code",
      "source": [
        "x.shape"
      ],
      "metadata": {
        "colab": {
          "base_uri": "https://localhost:8080/"
        },
        "id": "qx_lsnDnAdWJ",
        "outputId": "13694ddc-5258-4c88-9796-3362e5fbdf47"
      },
      "execution_count": null,
      "outputs": [
        {
          "output_type": "execute_result",
          "data": {
            "text/plain": [
              "(20000, 2)"
            ]
          },
          "metadata": {},
          "execution_count": 12
        }
      ]
    },
    {
      "cell_type": "code",
      "source": [
        "x"
      ],
      "metadata": {
        "colab": {
          "base_uri": "https://localhost:8080/"
        },
        "id": "mVk3rfxiAhGQ",
        "outputId": "f2dcd9d7-f438-4793-a598-47706a40b4a7"
      },
      "execution_count": null,
      "outputs": [
        {
          "output_type": "execute_result",
          "data": {
            "text/plain": [
              "array([[177.55530639, 178.00024012],\n",
              "       [ 98.01446156,  98.5703073 ],\n",
              "       [122.594059  , 122.28616957],\n",
              "       ...,\n",
              "       [ 81.19405101,  81.2466739 ],\n",
              "       [129.68390628, 129.74501396],\n",
              "       [ 83.74783896,  83.33294683]])"
            ]
          },
          "metadata": {},
          "execution_count": 13
        }
      ]
    },
    {
      "cell_type": "code",
      "source": [
        "plt.hist(x[:,1], 100);"
      ],
      "metadata": {
        "colab": {
          "base_uri": "https://localhost:8080/",
          "height": 430
        },
        "id": "PKX84noEAkBT",
        "outputId": "f283e0eb-65ed-4e18-e96a-bdf4dc178a76"
      },
      "execution_count": null,
      "outputs": [
        {
          "output_type": "display_data",
          "data": {
            "text/plain": [
              "<Figure size 640x480 with 1 Axes>"
            ],
            "image/png": "[encoded data removed]"
          },
          "metadata": {}
        }
      ]
    },
    {
      "cell_type": "markdown",
      "source": [
        "# Multiple Assets and Times"
      ],
      "metadata": {
        "id": "vhw5QBDFAu8M"
      }
    },
    {
      "cell_type": "code",
      "source": [
        "num_assets = 2\n",
        "num_paths = 10000\n",
        "num_time_steps = 2\n",
        "t = 1.0\n",
        "mus = 0.03 * np.ones(num_assets)\n",
        "stock_prices = 100.0 * np.ones(num_assets)\n",
        "volatilities = 0.2 * np.ones(num_assets)\n",
        "rho = 0.3\n",
        "corr_matrix = np.array([[1.0, rho],[rho, 1.0]])\n",
        "seed = 1912\n",
        "\n",
        "mus, stock_prices, volatilities"
      ],
      "metadata": {
        "colab": {
          "base_uri": "https://localhost:8080/"
        },
        "id": "2PyyrnhpAxpf",
        "outputId": "07e82ec4-8655-4eeb-eaa9-541854c05497"
      },
      "execution_count": null,
      "outputs": [
        {
          "output_type": "execute_result",
          "data": {
            "text/plain": [
              "(array([0.03, 0.03]), array([100., 100.]), array([0.2, 0.2]))"
            ]
          },
          "metadata": {},
          "execution_count": 15
        }
      ]
    },
    {
      "cell_type": "code",
      "source": [
        "corr_matrix"
      ],
      "metadata": {
        "colab": {
          "base_uri": "https://localhost:8080/"
        },
        "id": "WO9CyIY_A6_H",
        "outputId": "2b79227f-f4ef-4143-ba3a-5f916bf8f2dc"
      },
      "execution_count": null,
      "outputs": [
        {
          "output_type": "execute_result",
          "data": {
            "text/plain": [
              "array([[1. , 0.3],\n",
              "       [0.3, 1. ]])"
            ]
          },
          "metadata": {},
          "execution_count": 16
        }
      ]
    },
    {
      "cell_type": "code",
      "source": [
        "x = get_paths_assets(num_assets, num_paths, num_time_steps, t,\n",
        "                   mus, stock_prices, volatilities,\n",
        "                   corr_matrix, seed)"
      ],
      "metadata": {
        "id": "v9suCxxCA8KZ"
      },
      "execution_count": null,
      "outputs": []
    },
    {
      "cell_type": "code",
      "source": [
        "x.shape"
      ],
      "metadata": {
        "colab": {
          "base_uri": "https://localhost:8080/"
        },
        "id": "xcQV2Wg0A-2A",
        "outputId": "786404ab-06f9-4661-b95c-3597501fe72e"
      },
      "execution_count": null,
      "outputs": [
        {
          "output_type": "execute_result",
          "data": {
            "text/plain": [
              "(20000, 3, 2)"
            ]
          },
          "metadata": {},
          "execution_count": 18
        }
      ]
    },
    {
      "cell_type": "code",
      "source": [
        "x"
      ],
      "metadata": {
        "colab": {
          "base_uri": "https://localhost:8080/"
        },
        "id": "irWrRvidBCAq",
        "outputId": "1ec19942-e95f-4df1-9b9e-45f24048f3e4"
      },
      "execution_count": null,
      "outputs": [
        {
          "output_type": "execute_result",
          "data": {
            "text/plain": [
              "array([[[100.        , 100.        ],\n",
              "        [ 98.38791532, 130.76293912],\n",
              "        [113.39649611, 121.56624422]],\n",
              "\n",
              "       [[100.        , 100.        ],\n",
              "        [122.73085817, 103.85874482],\n",
              "        [ 94.80993213,  91.09672743]],\n",
              "\n",
              "       [[100.        , 100.        ],\n",
              "        [ 92.99294116, 104.15982172],\n",
              "        [101.33438841, 103.86885503]],\n",
              "\n",
              "       ...,\n",
              "\n",
              "       [[100.        , 100.        ],\n",
              "        [ 84.43564014, 112.01112396],\n",
              "        [ 80.53857693, 135.91115838]],\n",
              "\n",
              "       [[100.        , 100.        ],\n",
              "        [110.01676438, 115.42047693],\n",
              "        [115.22905479,  99.58218223]],\n",
              "\n",
              "       [[100.        , 100.        ],\n",
              "        [116.01756008,  95.42216717],\n",
              "        [114.06612186, 122.72885293]]])"
            ]
          },
          "metadata": {},
          "execution_count": 19
        }
      ]
    },
    {
      "cell_type": "code",
      "source": [
        "plt.hist(x[:,1], 100);"
      ],
      "metadata": {
        "colab": {
          "base_uri": "https://localhost:8080/",
          "height": 430
        },
        "id": "D60XzHqTBMET",
        "outputId": "5d4ba1bc-f921-453c-e499-fccdbe2f95f8"
      },
      "execution_count": null,
      "outputs": [
        {
          "output_type": "display_data",
          "data": {
            "text/plain": [
              "<Figure size 640x480 with 1 Axes>"
            ],
            "image/png": "[encoded data removed]"
          },
          "metadata": {}
        }
      ]
    },
    {
      "cell_type": "markdown",
      "source": [
        "Copyright (c) 2019, Dominic O'Kane"
      ],
      "metadata": {
        "id": "p0d_FHNIeZYU"
      }
    }
  ]
}